{
 "cells": [
  {
   "cell_type": "markdown",
   "metadata": {},
   "source": [
    "### ASSIGNMENT 1 \n",
    "\n",
    "**NAME:** CHUA HUN HO\n",
    "\n",
    "**MATRIC:** A18CS0050\n",
    "\n",
    "**Topic: Data Structure, Functions and Files in Python**\n",
    "- Due: 1 week from announcement.\n",
    "- Mode: Individual\n",
    "- Submission: E-Learning\n",
    "\n",
    "Given a data file that consists of an example daily sale information recorded manually for each of the transaction for a certain period. The information in the file consists of date, item name, amount sold, and price per unit.\n",
    "\n",
    "<br>\n",
    "<img src='Fig1.png' width='300px'>\n",
    "The sample of the data\n",
    "\n",
    "**INSTRUCTIONS:**\n",
    "1. Reads the data file in Python.\n",
    "2. Creates a function in Python called: **calculate_daily_sale** that:\n",
    "   - Able to calculate and return the sale of each item for every day.\n",
    "   - You need to determine the data structure for the returned information, where the returned result should be able to be accessed to show the sale of exact item on a specified day. E.g.: \n",
    "      - ```result[“2020-09-25”]``` *will returns the sale for each item on that day.*\n",
    "      - ```result[“2020-09-25”][“Item_B”]``` *will returns the sale of Item B on that day.*\n",
    "3. Creates a function in Python called: **get_total_sale** that:\n",
    "   - Able to combine the sale of a specific item throughout the period in the data file.\n",
    "   - The function should receive ONE argument:\n",
    "     - The result variable returned form **calculate_daily_sale**\n",
    "   - The function should return the total sale of each item throughout the period.\n",
    "4. Submit your Python Notebook in the E-Learning."
   ]
  },
  {
   "cell_type": "code",
   "execution_count": 1,
   "metadata": {},
   "outputs": [],
   "source": [
    "#Declare variable\n",
    "file_list=[]\n",
    "\n",
    "#Read the data file in Python.\n",
    "path = 'data_assignment_1.txt'"
   ]
  },
  {
   "cell_type": "code",
   "execution_count": 2,
   "metadata": {},
   "outputs": [],
   "source": [
    "#Read file from the path.\n",
    "with open(path) as f:\n",
    "    mySales = [x.rstrip() for x in f]\n",
    "    \n",
    "    #Make each record as a list.\n",
    "    for x in range(len(mySales)):  \n",
    "        \n",
    "        for word in mySales[x].split():\n",
    "            \n",
    "            if word[0:4] == '2020':\n",
    "                date = word\n",
    "                \n",
    "            elif word[0:4] == 'Item':\n",
    "                item = word\n",
    "                \n",
    "            elif word.isnumeric():\n",
    "                amt= int(word)\n",
    "                \n",
    "            else:\n",
    "                price= float(word)\n",
    "        \n",
    "        #Append all the sales records into a list\n",
    "        file_list.append([date,item,amt,price])\n",
    "\n",
    "f.close()\n",
    "\n",
    "# print(mySales)"
   ]
  },
  {
   "cell_type": "code",
   "execution_count": 3,
   "metadata": {},
   "outputs": [],
   "source": [
    "#This function is used to calculate daily sales\n",
    "def calculate_daily_sales(list_a):\n",
    "    sales_daily={} \n",
    "    \n",
    "    for x in range(len(list_a)):\n",
    "        \n",
    "        #Assign variable respectively since list_a is a nested list.\n",
    "        date = list_a[x][0]\n",
    "        item = list_a[x][1]\n",
    "        amt = int(list_a[x][2])\n",
    "        price = float(list_a[x][3])\n",
    "        \n",
    "        #Round off the sales into 2 d.p.\n",
    "        sales_item = round((amt*price), 2)\n",
    "        \n",
    "        #Check the existence of date first, see whether it has been stored in the dict or not\n",
    "        #then check with item also.\n",
    "        if date in sales_daily:\n",
    "            \n",
    "            #Add the sales when same item is found\n",
    "            if item in sales_daily[date]:\n",
    "                sales_daily[date][item]+=sales_item\n",
    "            \n",
    "            else: \n",
    "                sales_daily[date][item]=sales_item\n",
    "                \n",
    "        #Assign the item and sales into the new dict first.\n",
    "        #Item will be the key; sales will be the value of the key.\n",
    "        else: \n",
    "            sales_daily[date]={item:sales_item}\n",
    "              \n",
    "    return sales_daily"
   ]
  },
  {
   "cell_type": "code",
   "execution_count": 7,
   "metadata": {},
   "outputs": [],
   "source": [
    "def get_total_sales(result_d):\n",
    "    total_sales_item = {}\n",
    "    \n",
    "    for x in result_d: \n",
    "    # x = date; result[x] = {item:value}\n",
    "        \n",
    "        for y in result_d[x]: \n",
    "        # y = item; result[x][y] = value \n",
    "        \n",
    "            result_d[x][y] = round((result_d[x][y]), 2)\n",
    "            \n",
    "            if y in total_sales_item:\n",
    "                total_sales_item[y]+= result_d[x][y]\n",
    "\n",
    "            else:\n",
    "                total_sales_item[y] = result_d[x][y]\n",
    "           \n",
    "    return total_sales_item"
   ]
  },
  {
   "cell_type": "code",
   "execution_count": 9,
   "metadata": {},
   "outputs": [
    {
     "name": "stdout",
     "output_type": "stream",
     "text": [
      "Sales result of Item_B on 2020-09-25: \n",
      "7.2\n",
      "Sales result on 2020-09-25: \n",
      "{'Item_D': 37.8, 'Item_A': 28.5, 'Item_B': 7.2}\n",
      "Total sales throughout the period in the data file: \n",
      "{'Item_A': 159.6, 'Item_B': 96.0, 'Item_C': 81.9, 'Item_D': 153.9, 'Item_E': 13.200000000000001, 'Item_F': 25.6}\n"
     ]
    }
   ],
   "source": [
    "#Testing part\n",
    "result = calculate_daily_sales(file_list)\n",
    "total_sales = get_total_sales(result)\n",
    "\n",
    "print('Sales result of Item_B on 2020-09-25: ')\n",
    "print(result['2020-09-25']['Item_B'])\n",
    "\n",
    "print('Sales result on 2020-09-25: ')\n",
    "print(result['2020-09-25'])\n",
    "\n",
    "print('Total sales throughout the period in the data file: ')\n",
    "print(total_sales)\n"
   ]
  }
 ],
 "metadata": {
  "kernelspec": {
   "display_name": "Python 3",
   "language": "python",
   "name": "python3"
  },
  "language_info": {
   "codemirror_mode": {
    "name": "ipython",
    "version": 3
   },
   "file_extension": ".py",
   "mimetype": "text/x-python",
   "name": "python",
   "nbconvert_exporter": "python",
   "pygments_lexer": "ipython3",
   "version": "3.8.3"
  }
 },
 "nbformat": 4,
 "nbformat_minor": 4
}

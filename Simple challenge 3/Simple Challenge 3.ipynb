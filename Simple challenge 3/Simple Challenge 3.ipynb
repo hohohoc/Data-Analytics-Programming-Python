{
 "cells": [
  {
   "cell_type": "markdown",
   "metadata": {},
   "source": [
    "Name: Chua Hun Ho\n",
    "\n",
    "Matric No.: A18CS0050\n"
   ]
  },
  {
   "cell_type": "code",
   "execution_count": 1,
   "metadata": {},
   "outputs": [
    {
     "name": "stdout",
     "output_type": "stream",
     "text": [
      "[1 0 0 1 1 1 0 1 0 1 1 1 1 1 1 1 1 1 1 1 0 1 0 0 1 1 1 1 1 1 1 0 1 1 1 1 0\n",
      " 0 0 1 1 1 1 1 1 1 1 1 1 1 1 0 0 0 0 0 1 1 1 1 1 1 1 0 0 0 1 1 1 1]\n",
      "\n",
      "['Ali' 'Ahmad' 'Beng' 'Chris' 'Sita' 'Marion' 'Stephen' 'Cobby' 'Akmal'\n",
      " 'Nita']\n",
      "\n",
      "['Sunday' 'Monday' 'Tuesday' 'Wednesday' 'Thursday' 'Friday' 'Saturday']\n"
     ]
    }
   ],
   "source": [
    "import numpy as np\n",
    "\n",
    "attendance = np.array([1,0,0,1,1,1,0,1,0,1,1,1,1,1,1,1,1,1,1,1,0,1,0,0,1,1,1,1,1,1,1,0,1,1,1,1,0,0,0,1,1,1,1,1,1,1,1,1,1,1,1,0,0,0,0,0,1,1,1,1,1,1,1,0,0,0,1,1,1,1])\n",
    "name_list = np.array([\"Ali\",\"Ahmad\",\"Beng\",\"Chris\",\"Sita\",\"Marion\",\"Stephen\",\"Cobby\",\"Akmal\",\"Nita\"])\n",
    "day_list = np.array([\"Sunday\",\"Monday\",\"Tuesday\",\"Wednesday\",\"Thursday\",\"Friday\",\"Saturday\"])\n",
    "\n",
    "print(attendance)\n",
    "print()\n",
    "print(name_list)\n",
    "print()\n",
    "print(day_list)\n",
    "\n"
   ]
  },
  {
   "cell_type": "markdown",
   "metadata": {},
   "source": [
    "## Description of the data:\n",
    "Given a list of attendance data of an event for 10 students for 1 week where **1 indicates the student attends** for the event, while **0 indicates the student is absent**. The data is given in a simple list described as follows:\n",
    "\n",
    "<br>\n",
    "<img src=\"F1.png\">\n",
    "\n",
    "The namelist and the daylist also given. The order of the day and name in the attendance data are complement to both variables. "
   ]
  },
  {
   "cell_type": "code",
   "execution_count": 2,
   "metadata": {},
   "outputs": [
    {
     "data": {
      "text/plain": [
       "array([[1, 1, 0, 1, 1, 1, 1],\n",
       "       [0, 1, 1, 0, 1, 0, 1],\n",
       "       [0, 1, 0, 1, 1, 0, 1],\n",
       "       [1, 1, 0, 1, 1, 0, 0],\n",
       "       [1, 1, 1, 1, 1, 0, 0],\n",
       "       [1, 1, 1, 1, 1, 0, 0],\n",
       "       [0, 1, 1, 0, 1, 1, 1],\n",
       "       [1, 1, 1, 0, 1, 1, 1],\n",
       "       [0, 1, 1, 0, 1, 1, 1],\n",
       "       [1, 1, 1, 1, 1, 1, 1]])"
      ]
     },
     "execution_count": 2,
     "metadata": {},
     "output_type": "execute_result"
    }
   ],
   "source": [
    "# Now, based on the given attendance data, create a 2D numpy array (named: attendance_arr) where:\n",
    "# ROW represents each student\n",
    "# COLUMN represents each day\n",
    "# Write the code at below:\n",
    "attendance_arr = (attendance.reshape(7,10)).swapaxes(1,0)\n",
    "attendance_arr"
   ]
  },
  {
   "cell_type": "code",
   "execution_count": 3,
   "metadata": {},
   "outputs": [
    {
     "name": "stdout",
     "output_type": "stream",
     "text": [
      "Check namelist: Attended more than __ days: 4\n",
      "('Ali', 6)\n",
      "('Sita', 5)\n",
      "('Marion', 5)\n",
      "('Stephen', 5)\n",
      "('Cobby', 6)\n",
      "('Akmal', 5)\n",
      "('Nita', 7)\n"
     ]
    }
   ],
   "source": [
    "# Write a function that returns the list of names, and their corresponding total attendance based on a filter\n",
    "# The function should accept at least ONE argument, which is the no. of days. You should return the results\n",
    "# filtered based on the no. of days. \n",
    "# E.g.: get the names and their total attendance for those who attended more than 4 days\n",
    "\n",
    "def attendance_list(attendance_arr,name_list,y):\n",
    "    myList=[]\n",
    "    \n",
    "    #Check the validity of user input first\n",
    "    if (y<0 or y>7):\n",
    "        print('Invalid value... Please try again...')\n",
    "    \n",
    "    else:\n",
    "        for x in range(len(attendance_arr)):\n",
    "            myList.append(tuple([name_list[x],attendance_arr[x].sum()]))\n",
    "            \n",
    "            #Here 'y' represents more than 'y' days \n",
    "            if attendance_arr[x].sum()>y:\n",
    "                print(myList[x])\n",
    "                \n",
    "            #Ignore if it is less than 'y' days\n",
    "            else:\n",
    "                continue\n",
    "\n",
    "    return myList\n",
    "\n",
    "user_input = int(input('Check namelist: Attended more than __ days: '))\n",
    "total_att = attendance_list(attendance_arr,name_list,user_input)"
   ]
  },
  {
   "cell_type": "code",
   "execution_count": 4,
   "metadata": {},
   "outputs": [
    {
     "name": "stdout",
     "output_type": "stream",
     "text": [
      "Please enter a name to check his/her 7-days attendance: Akmal\n",
      "From Sunday to Saturday: \n",
      "[0 1 1 0 1 1 1]\n"
     ]
    },
    {
     "name": "stderr",
     "output_type": "stream",
     "text": [
      "<ipython-input-4-bc9816f41106>:20: FutureWarning: elementwise comparison failed; returning scalar instead, but in the future will perform elementwise comparison\n",
      "  if Capital_name in myList[x]:\n"
     ]
    }
   ],
   "source": [
    "# Write a function that returns the 7-day attendance for a specific person.\n",
    "# The function should accept at least ONE argument, which is the name of the person. You should return the results\n",
    "# based on the name.\n",
    "# E.g.: get the 7-day attendance for \"Akmal\"\n",
    "def check_person_attendance(total_attendance, name_list,name):\n",
    "    myList=[]\n",
    "   \n",
    "    #Change the first character of input is capitalized\n",
    "    Capital_name=name.capitalize()\n",
    "    \n",
    "    #Check the validity of user input first\n",
    "    if Capital_name not in name_list:\n",
    "        print('This student is not in the list')\n",
    "    \n",
    "    else:\n",
    "        for x in range(len(attendance_arr)):\n",
    "            myList.append([name_list[x],attendance_arr[x]])\n",
    "            \n",
    "            #Print the attendance if the name is in the list\n",
    "            if Capital_name in myList[x]:\n",
    "                print(attendance_arr[x])\n",
    "            else:\n",
    "                continue\n",
    "                \n",
    "    return myList\n",
    "\n",
    "name = input('Please enter a name to check his/her 7-days attendance: ')\n",
    "print('From Sunday to Saturday: ')\n",
    "stu_att = check_person_attendance(total_att, name_list,name)"
   ]
  },
  {
   "cell_type": "code",
   "execution_count": 5,
   "metadata": {},
   "outputs": [
    {
     "name": "stdout",
     "output_type": "stream",
     "text": [
      "Which day has more than ___ attendees? \n",
      "<Please enter the amount of attendees you would like to know...> 5\n",
      "['Sunday', 6]\n",
      "['Monday', 10]\n",
      "['Tuesday', 7]\n",
      "['Wednesday', 6]\n",
      "['Thursday', 10]\n",
      "['Saturday', 7]\n"
     ]
    }
   ],
   "source": [
    "# Write a function that returns the list of days, and the corresponding total attendance based on a filter\n",
    "# The function should accept at least ONE argument, which is the no. of attendees. You should return the results\n",
    "# filtered based on the no. of attendees. \n",
    "# E.g.: get the list of days and the total attendance for where if the attendees exceed 5 people. \n",
    "def day_attendance(attendance_arr,day_list,y):\n",
    "    myList=[]\n",
    "    \n",
    "    total_att = attendance_arr.sum(axis=0)\n",
    "    \n",
    "    #Check the validity of user input first\n",
    "    if (y<0 or y>=10):\n",
    "        print('Invalid value... Maximum value is 9...')\n",
    "        \n",
    "    else:\n",
    "        for x in range(len(day_list)):\n",
    "        \n",
    "            myList.append([day_list[x],total_att[x]])\n",
    "            \n",
    "            #Print only if the attendees exceed ''\n",
    "            if total_att[x]>y:\n",
    "                print(myList[x])\n",
    "            else:\n",
    "                continue       \n",
    "    \n",
    "    return myList\n",
    "\n",
    "print('Which day has more than ___ attendees? ')\n",
    "a = int(input('<Please enter the amount of attendees you would like to know...> '))\n",
    "day_att = day_attendance(attendance_arr,day_list,a)"
   ]
  },
  {
   "cell_type": "code",
   "execution_count": 6,
   "metadata": {},
   "outputs": [
    {
     "data": {
      "text/plain": [
       "[['Sunday', '60.0 %'],\n",
       " ['Monday', '100.0 %'],\n",
       " ['Tuesday', '70.0 %'],\n",
       " ['Wednesday', '60.0 %'],\n",
       " ['Thursday', '100.0 %'],\n",
       " ['Friday', '50.0 %'],\n",
       " ['Saturday', '70.0 %']]"
      ]
     },
     "execution_count": 6,
     "metadata": {},
     "output_type": "execute_result"
    }
   ],
   "source": [
    "# Write a function that returns the percentage of attendance for each day.\n",
    "\n",
    "def percentage_att_day(day_att):\n",
    "    for x in range(len(day_att)):\n",
    "        day_att[x][1] = str(round(((day_att[x][1])/10*100),2)) + ' %'\n",
    "        \n",
    "    return day_att\n",
    "    \n",
    "attendance_each_day = percentage_att_day(day_att)\n",
    "attendance_each_day"
   ]
  },
  {
   "cell_type": "code",
   "execution_count": 7,
   "metadata": {},
   "outputs": [
    {
     "data": {
      "text/plain": [
       "[['Ali', '85.71 %'],\n",
       " ['Ahmad', '57.14 %'],\n",
       " ['Beng', '57.14 %'],\n",
       " ['Chris', '57.14 %'],\n",
       " ['Sita', '71.43 %'],\n",
       " ['Marion', '71.43 %'],\n",
       " ['Stephen', '71.43 %'],\n",
       " ['Cobby', '85.71 %'],\n",
       " ['Akmal', '71.43 %'],\n",
       " ['Nita', '100.0 %']]"
      ]
     },
     "execution_count": 7,
     "metadata": {},
     "output_type": "execute_result"
    }
   ],
   "source": [
    "# Write a function that returns the percentage of attendance for each student.\n",
    "\n",
    "def percentage_stu_day(stu_att):\n",
    "    for x in range(len(stu_att)):\n",
    "        stu_att[x][1] = str(round((stu_att[x][1].sum())/7*100 , 2)) +' %'\n",
    "    \n",
    "    return stu_att\n",
    "    \n",
    "attendance_each_student = percentage_stu_day(stu_att)\n",
    "attendance_each_student"
   ]
  },
  {
   "cell_type": "code",
   "execution_count": null,
   "metadata": {},
   "outputs": [],
   "source": []
  }
 ],
 "metadata": {
  "kernelspec": {
   "display_name": "Python 3",
   "language": "python",
   "name": "python3"
  },
  "language_info": {
   "codemirror_mode": {
    "name": "ipython",
    "version": 3
   },
   "file_extension": ".py",
   "mimetype": "text/x-python",
   "name": "python",
   "nbconvert_exporter": "python",
   "pygments_lexer": "ipython3",
   "version": "3.8.3"
  }
 },
 "nbformat": 4,
 "nbformat_minor": 4
}

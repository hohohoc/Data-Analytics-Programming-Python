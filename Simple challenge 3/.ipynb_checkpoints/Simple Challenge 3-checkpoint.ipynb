{
 "cells": [
  {
   "cell_type": "code",
   "execution_count": 1,
   "metadata": {},
   "outputs": [
    {
     "name": "stdout",
     "output_type": "stream",
     "text": [
      "[1 0 0 1 1 1 0 1 0 1 1 1 1 1 1 1 1 1 1 1 0 1 0 0 1 1 1 1 1 1 1 0 1 1 1 1 0\n",
      " 0 0 1 1 1 1 1 1 1 1 1 1 1 1 0 0 0 0 0 1 1 1 1 1 1 1 0 0 0 1 1 1 1]\n",
      "\n",
      "['Ali' 'Ahmad' 'Beng' 'Chris' 'Sita' 'Marion' 'Stephen' 'Cobby' 'Akmal'\n",
      " 'Nita']\n",
      "\n",
      "['Sunday' 'Monday' 'Tuesday' 'Wednesday' 'Thursday' 'Friday' 'Saturday']\n"
     ]
    }
   ],
   "source": [
    "import numpy as np\n",
    "\n",
    "attendance = np.array([1,0,0,1,1,1,0,1,0,1,1,1,1,1,1,1,1,1,1,1,0,1,0,0,1,1,1,1,1,1,1,0,1,1,1,1,0,0,0,1,1,1,1,1,1,1,1,1,1,1,1,0,0,0,0,0,1,1,1,1,1,1,1,0,0,0,1,1,1,1])\n",
    "name_list = np.array([\"Ali\",\"Ahmad\",\"Beng\",\"Chris\",\"Sita\",\"Marion\",\"Stephen\",\"Cobby\",\"Akmal\",\"Nita\"])\n",
    "day_list = np.array([\"Sunday\",\"Monday\",\"Tuesday\",\"Wednesday\",\"Thursday\",\"Friday\",\"Saturday\"])\n",
    "\n",
    "print(attendance)\n",
    "print()\n",
    "print(name_list)\n",
    "print()\n",
    "print(day_list)"
   ]
  },
  {
   "cell_type": "markdown",
   "metadata": {},
   "source": [
    "## Description of the data:\n",
    "Given a list of attendance data of an event for 10 students for 1 week where **1 indicates the student attends** for the event, while **0 indicates the student is absent**. The data is given in a simple list described as follows:\n",
    "\n",
    "<br>\n",
    "<img src=\"F1.png\">\n",
    "\n",
    "The namelist and the daylist also given. The order of the day and name in the attendance data are complement to both variables. "
   ]
  },
  {
   "cell_type": "code",
   "execution_count": 2,
   "metadata": {},
   "outputs": [],
   "source": [
    "# Now, based on the given attendance data, create a 2D numpy array (named: attendance_arr) where:\n",
    "# ROW represents each student\n",
    "# COLUMN represents each day\n",
    "# Write the code at below:\n",
    "\n"
   ]
  },
  {
   "cell_type": "code",
   "execution_count": 3,
   "metadata": {},
   "outputs": [],
   "source": [
    "# Write a fuction that returns the list of names, and their corresponding total attendance based on a filter\n",
    "# The function should accept at least ONE argument, which is the no. of days. You should return the results\n",
    "# filtered based on the no. of days. \n",
    "# E.g.: get the names and their total attendance for those who attended more than 4 days\n",
    "\n"
   ]
  },
  {
   "cell_type": "code",
   "execution_count": 4,
   "metadata": {},
   "outputs": [],
   "source": [
    "# Write a function that returns the 7-day attendance for a specific person.\n",
    "# The function should accept at least ONE argument, which is the name of the person. You should return the results\n",
    "# based on the name.\n",
    "# E.g.: get the 7-day attendance for \"Akmal\"\n",
    "\n"
   ]
  },
  {
   "cell_type": "code",
   "execution_count": 5,
   "metadata": {},
   "outputs": [],
   "source": [
    "# Write a fuction that returns the list of days, and the corresponding total attendance based on a filter\n",
    "# The function should accept at least ONE argument, which is the no. of attendees. You should return the results\n",
    "# filtered based on the no. of attendees. \n",
    "# E.g.: get the list of days and the total attendance for where if the attendees exceed 5 people. \n",
    "\n"
   ]
  },
  {
   "cell_type": "code",
   "execution_count": 6,
   "metadata": {},
   "outputs": [],
   "source": [
    "# Write a function that returns the percentage of attendance for each day.\n",
    "\n"
   ]
  },
  {
   "cell_type": "code",
   "execution_count": 7,
   "metadata": {},
   "outputs": [],
   "source": [
    "# Write a function that returns the percentage of attendance for each student.\n",
    "\n"
   ]
  }
 ],
 "metadata": {
  "kernelspec": {
   "display_name": "Python 3",
   "language": "python",
   "name": "python3"
  },
  "language_info": {
   "codemirror_mode": {
    "name": "ipython",
    "version": 3
   },
   "file_extension": ".py",
   "mimetype": "text/x-python",
   "name": "python",
   "nbconvert_exporter": "python",
   "pygments_lexer": "ipython3",
   "version": "3.8.3"
  }
 },
 "nbformat": 4,
 "nbformat_minor": 4
}
